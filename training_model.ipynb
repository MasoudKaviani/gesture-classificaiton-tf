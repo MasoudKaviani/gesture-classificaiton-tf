{
 "cells": [
  {
   "cell_type": "code",
   "execution_count": 1,
   "metadata": {
    "id": "T61WCfGzwg6H"
   },
   "outputs": [],
   "source": [
    "import pandas as pd\n",
    "from sklearn.model_selection import train_test_split"
   ]
  },
  {
   "cell_type": "code",
   "execution_count": 2,
   "metadata": {
    "id": "0IigAwGhwg6I"
   },
   "outputs": [],
   "source": [
    "df = pd.read_csv('data/cleaned_dataset.csv')"
   ]
  },
  {
   "cell_type": "code",
   "execution_count": 3,
   "metadata": {
    "id": "tUzxnSkQxVoh"
   },
   "outputs": [
    {
     "data": {
      "text/html": [
       "<div>\n",
       "<style scoped>\n",
       "    .dataframe tbody tr th:only-of-type {\n",
       "        vertical-align: middle;\n",
       "    }\n",
       "\n",
       "    .dataframe tbody tr th {\n",
       "        vertical-align: top;\n",
       "    }\n",
       "\n",
       "    .dataframe thead th {\n",
       "        text-align: right;\n",
       "    }\n",
       "</style>\n",
       "<table border=\"1\" class=\"dataframe\">\n",
       "  <thead>\n",
       "    <tr style=\"text-align: right;\">\n",
       "      <th></th>\n",
       "      <th>Gesture</th>\n",
       "      <th>Ax</th>\n",
       "      <th>Ay</th>\n",
       "      <th>Az</th>\n",
       "      <th>Gx</th>\n",
       "      <th>Gy</th>\n",
       "      <th>Gz</th>\n",
       "    </tr>\n",
       "  </thead>\n",
       "  <tbody>\n",
       "    <tr>\n",
       "      <th>0</th>\n",
       "      <td>0</td>\n",
       "      <td>0.327250</td>\n",
       "      <td>0.972020</td>\n",
       "      <td>0.978133</td>\n",
       "      <td>0.972500</td>\n",
       "      <td>0.282577</td>\n",
       "      <td>0.551446</td>\n",
       "    </tr>\n",
       "    <tr>\n",
       "      <th>1</th>\n",
       "      <td>0</td>\n",
       "      <td>0.323264</td>\n",
       "      <td>0.978824</td>\n",
       "      <td>0.978574</td>\n",
       "      <td>0.968821</td>\n",
       "      <td>0.297214</td>\n",
       "      <td>0.549468</td>\n",
       "    </tr>\n",
       "    <tr>\n",
       "      <th>2</th>\n",
       "      <td>0</td>\n",
       "      <td>0.331779</td>\n",
       "      <td>0.970411</td>\n",
       "      <td>0.978970</td>\n",
       "      <td>0.970301</td>\n",
       "      <td>0.260290</td>\n",
       "      <td>0.551673</td>\n",
       "    </tr>\n",
       "    <tr>\n",
       "      <th>3</th>\n",
       "      <td>0</td>\n",
       "      <td>0.313128</td>\n",
       "      <td>0.981825</td>\n",
       "      <td>0.978850</td>\n",
       "      <td>0.968926</td>\n",
       "      <td>0.284897</td>\n",
       "      <td>0.547513</td>\n",
       "    </tr>\n",
       "    <tr>\n",
       "      <th>4</th>\n",
       "      <td>0</td>\n",
       "      <td>0.222645</td>\n",
       "      <td>0.968425</td>\n",
       "      <td>0.979011</td>\n",
       "      <td>0.969466</td>\n",
       "      <td>0.267591</td>\n",
       "      <td>0.550981</td>\n",
       "    </tr>\n",
       "  </tbody>\n",
       "</table>\n",
       "</div>"
      ],
      "text/plain": [
       "   Gesture        Ax        Ay        Az        Gx        Gy        Gz\n",
       "0        0  0.327250  0.972020  0.978133  0.972500  0.282577  0.551446\n",
       "1        0  0.323264  0.978824  0.978574  0.968821  0.297214  0.549468\n",
       "2        0  0.331779  0.970411  0.978970  0.970301  0.260290  0.551673\n",
       "3        0  0.313128  0.981825  0.978850  0.968926  0.284897  0.547513\n",
       "4        0  0.222645  0.968425  0.979011  0.969466  0.267591  0.550981"
      ]
     },
     "execution_count": 3,
     "metadata": {},
     "output_type": "execute_result"
    }
   ],
   "source": [
    "df.head()"
   ]
  },
  {
   "cell_type": "code",
   "execution_count": 4,
   "metadata": {
    "id": "XUpuK99zwg6J"
   },
   "outputs": [],
   "source": [
    "X = df[['Ax', 'Ay', 'Az', 'Gx', 'Gy', 'Gz']]\n",
    "y = df['Gesture']"
   ]
  },
  {
   "cell_type": "code",
   "execution_count": 5,
   "metadata": {
    "id": "46X0gtp7wg6K"
   },
   "outputs": [],
   "source": [
    "X_train, X_test, y_train, y_test = train_test_split(X, y, test_size=0.15)"
   ]
  },
  {
   "cell_type": "code",
   "execution_count": 6,
   "metadata": {
    "colab": {
     "base_uri": "https://localhost:8080/",
     "height": 241
    },
    "id": "wHFo0pgswg6K",
    "outputId": "ef9aa93d-064f-433c-b810-9f750ecd2bbb"
   },
   "outputs": [
    {
     "data": {
      "text/plain": [
       "206    1\n",
       "56     0\n",
       "27     0\n",
       "186    1\n",
       "169    1\n",
       "Name: Gesture, dtype: int64"
      ]
     },
     "execution_count": 6,
     "metadata": {},
     "output_type": "execute_result"
    }
   ],
   "source": [
    "y_train.head()"
   ]
  },
  {
   "cell_type": "code",
   "execution_count": 7,
   "metadata": {
    "colab": {
     "base_uri": "https://localhost:8080/",
     "height": 206
    },
    "id": "N9NAxiqnyRZR",
    "outputId": "0ab00367-5fb2-4f1e-a000-d501f44bf46c"
   },
   "outputs": [
    {
     "data": {
      "text/html": [
       "<div>\n",
       "<style scoped>\n",
       "    .dataframe tbody tr th:only-of-type {\n",
       "        vertical-align: middle;\n",
       "    }\n",
       "\n",
       "    .dataframe tbody tr th {\n",
       "        vertical-align: top;\n",
       "    }\n",
       "\n",
       "    .dataframe thead th {\n",
       "        text-align: right;\n",
       "    }\n",
       "</style>\n",
       "<table border=\"1\" class=\"dataframe\">\n",
       "  <thead>\n",
       "    <tr style=\"text-align: right;\">\n",
       "      <th></th>\n",
       "      <th>Ax</th>\n",
       "      <th>Ay</th>\n",
       "      <th>Az</th>\n",
       "      <th>Gx</th>\n",
       "      <th>Gy</th>\n",
       "      <th>Gz</th>\n",
       "    </tr>\n",
       "  </thead>\n",
       "  <tbody>\n",
       "    <tr>\n",
       "      <th>206</th>\n",
       "      <td>0.456646</td>\n",
       "      <td>0.853639</td>\n",
       "      <td>0.978528</td>\n",
       "      <td>0.969101</td>\n",
       "      <td>0.274786</td>\n",
       "      <td>0.520502</td>\n",
       "    </tr>\n",
       "    <tr>\n",
       "      <th>56</th>\n",
       "      <td>0.330482</td>\n",
       "      <td>0.920396</td>\n",
       "      <td>0.979440</td>\n",
       "      <td>0.968450</td>\n",
       "      <td>0.255034</td>\n",
       "      <td>0.551264</td>\n",
       "    </tr>\n",
       "    <tr>\n",
       "      <th>27</th>\n",
       "      <td>0.403998</td>\n",
       "      <td>0.950270</td>\n",
       "      <td>0.974576</td>\n",
       "      <td>0.967800</td>\n",
       "      <td>0.257439</td>\n",
       "      <td>0.551752</td>\n",
       "    </tr>\n",
       "    <tr>\n",
       "      <th>186</th>\n",
       "      <td>0.293535</td>\n",
       "      <td>0.914164</td>\n",
       "      <td>0.978645</td>\n",
       "      <td>0.917306</td>\n",
       "      <td>0.262041</td>\n",
       "      <td>0.554830</td>\n",
       "    </tr>\n",
       "    <tr>\n",
       "      <th>169</th>\n",
       "      <td>0.322265</td>\n",
       "      <td>0.925372</td>\n",
       "      <td>0.978472</td>\n",
       "      <td>0.969835</td>\n",
       "      <td>0.242481</td>\n",
       "      <td>0.554506</td>\n",
       "    </tr>\n",
       "  </tbody>\n",
       "</table>\n",
       "</div>"
      ],
      "text/plain": [
       "           Ax        Ay        Az        Gx        Gy        Gz\n",
       "206  0.456646  0.853639  0.978528  0.969101  0.274786  0.520502\n",
       "56   0.330482  0.920396  0.979440  0.968450  0.255034  0.551264\n",
       "27   0.403998  0.950270  0.974576  0.967800  0.257439  0.551752\n",
       "186  0.293535  0.914164  0.978645  0.917306  0.262041  0.554830\n",
       "169  0.322265  0.925372  0.978472  0.969835  0.242481  0.554506"
      ]
     },
     "execution_count": 7,
     "metadata": {},
     "output_type": "execute_result"
    }
   ],
   "source": [
    "X_train.head()"
   ]
  },
  {
   "cell_type": "code",
   "execution_count": 8,
   "metadata": {
    "id": "Ev5JOwodwg6M"
   },
   "outputs": [],
   "source": [
    "from tensorflow.keras.models import Sequential, load_model\n",
    "from tensorflow.keras.layers import Dense\n",
    "from sklearn.metrics import accuracy_score\n",
    "import tensorflow as tf"
   ]
  },
  {
   "cell_type": "code",
   "execution_count": 9,
   "metadata": {
    "colab": {
     "base_uri": "https://localhost:8080/"
    },
    "id": "mJarGZbiwg6N",
    "outputId": "e4e7728e-1cc2-48da-d984-aba1df33e0c1"
   },
   "outputs": [],
   "source": [
    "import tensorflow as tf\n",
    "from sklearn.preprocessing import StandardScaler\n",
    "from tensorflow.keras.callbacks import EarlyStopping, LearningRateScheduler\n",
    "\n",
    "scaler = StandardScaler()\n",
    "X_train = scaler.fit_transform(X_train)\n",
    "X_test = scaler.transform(X_test)\n",
    "\n",
    "model = tf.keras.Sequential([\n",
    "    tf.keras.layers.Dense(256, activation='relu', input_shape=(X_train.shape[1],)),\n",
    "    tf.keras.layers.Dropout(0.5),\n",
    "    tf.keras.layers.Dense(128, activation='relu'),\n",
    "    tf.keras.layers.Dropout(0.5),\n",
    "    tf.keras.layers.Dense(64, activation='relu'),\n",
    "    tf.keras.layers.BatchNormalization(),\n",
    "    tf.keras.layers.Dense(1, activation='sigmoid')\n",
    "])\n",
    "\n",
    "model.compile(optimizer='adam', loss='binary_crossentropy', metrics=['accuracy'])\n",
    "\n",
    "early_stopping = EarlyStopping(monitor='val_loss', patience=5, restore_best_weights=True)\n",
    "lr_schedule = LearningRateScheduler(lambda epoch: 1e-3 * 0.9 ** epoch)"
   ]
  },
  {
   "cell_type": "code",
   "execution_count": 11,
   "metadata": {
    "scrolled": true
   },
   "outputs": [
    {
     "name": "stdout",
     "output_type": "stream",
     "text": [
      "Epoch 1/200\n",
      "6/6 [==============================] - 2s 53ms/step - loss: 0.8795 - accuracy: 0.4641 - val_loss: 0.6570 - val_accuracy: 0.6667 - lr: 0.0010\n",
      "Epoch 2/200\n",
      "6/6 [==============================] - 0s 10ms/step - loss: 0.7520 - accuracy: 0.5414 - val_loss: 0.6450 - val_accuracy: 0.6667 - lr: 9.0000e-04\n",
      "Epoch 3/200\n",
      "6/6 [==============================] - 0s 11ms/step - loss: 0.7217 - accuracy: 0.5912 - val_loss: 0.6378 - val_accuracy: 0.6970 - lr: 8.1000e-04\n",
      "Epoch 4/200\n",
      "6/6 [==============================] - 0s 12ms/step - loss: 0.6660 - accuracy: 0.7238 - val_loss: 0.6307 - val_accuracy: 0.6970 - lr: 7.2900e-04\n",
      "Epoch 5/200\n",
      "6/6 [==============================] - 0s 12ms/step - loss: 0.6170 - accuracy: 0.7017 - val_loss: 0.6249 - val_accuracy: 0.6970 - lr: 6.5610e-04\n",
      "Epoch 6/200\n",
      "6/6 [==============================] - 0s 13ms/step - loss: 0.5629 - accuracy: 0.7348 - val_loss: 0.6201 - val_accuracy: 0.7273 - lr: 5.9049e-04\n",
      "Epoch 7/200\n",
      "6/6 [==============================] - 0s 15ms/step - loss: 0.5391 - accuracy: 0.7348 - val_loss: 0.6149 - val_accuracy: 0.7576 - lr: 5.3144e-04\n",
      "Epoch 8/200\n",
      "6/6 [==============================] - 0s 12ms/step - loss: 0.5756 - accuracy: 0.7680 - val_loss: 0.6105 - val_accuracy: 0.7576 - lr: 4.7830e-04\n",
      "Epoch 9/200\n",
      "6/6 [==============================] - 0s 11ms/step - loss: 0.5807 - accuracy: 0.7403 - val_loss: 0.6075 - val_accuracy: 0.7576 - lr: 4.3047e-04\n",
      "Epoch 10/200\n",
      "6/6 [==============================] - 0s 11ms/step - loss: 0.5621 - accuracy: 0.8011 - val_loss: 0.6049 - val_accuracy: 0.7576 - lr: 3.8742e-04\n",
      "Epoch 11/200\n",
      "6/6 [==============================] - 0s 13ms/step - loss: 0.5643 - accuracy: 0.7293 - val_loss: 0.6014 - val_accuracy: 0.7576 - lr: 3.4868e-04\n",
      "Epoch 12/200\n",
      "6/6 [==============================] - 0s 11ms/step - loss: 0.5989 - accuracy: 0.7459 - val_loss: 0.5983 - val_accuracy: 0.7576 - lr: 3.1381e-04\n",
      "Epoch 13/200\n",
      "6/6 [==============================] - 0s 12ms/step - loss: 0.5788 - accuracy: 0.7514 - val_loss: 0.5958 - val_accuracy: 0.7576 - lr: 2.8243e-04\n",
      "Epoch 14/200\n",
      "6/6 [==============================] - 0s 13ms/step - loss: 0.5980 - accuracy: 0.7017 - val_loss: 0.5932 - val_accuracy: 0.7576 - lr: 2.5419e-04\n",
      "Epoch 15/200\n",
      "6/6 [==============================] - 0s 11ms/step - loss: 0.5829 - accuracy: 0.7514 - val_loss: 0.5916 - val_accuracy: 0.7576 - lr: 2.2877e-04\n",
      "Epoch 16/200\n",
      "6/6 [==============================] - 0s 11ms/step - loss: 0.6735 - accuracy: 0.7017 - val_loss: 0.5895 - val_accuracy: 0.7576 - lr: 2.0589e-04\n",
      "Epoch 17/200\n",
      "6/6 [==============================] - 0s 13ms/step - loss: 0.6213 - accuracy: 0.7238 - val_loss: 0.5882 - val_accuracy: 0.7576 - lr: 1.8530e-04\n",
      "Epoch 18/200\n",
      "6/6 [==============================] - 0s 12ms/step - loss: 0.6120 - accuracy: 0.7182 - val_loss: 0.5860 - val_accuracy: 0.7576 - lr: 1.6677e-04\n",
      "Epoch 19/200\n",
      "6/6 [==============================] - 0s 13ms/step - loss: 0.5911 - accuracy: 0.7569 - val_loss: 0.5836 - val_accuracy: 0.7576 - lr: 1.5009e-04\n",
      "Epoch 20/200\n",
      "6/6 [==============================] - 0s 12ms/step - loss: 0.5555 - accuracy: 0.7790 - val_loss: 0.5816 - val_accuracy: 0.7576 - lr: 1.3509e-04\n",
      "Epoch 21/200\n",
      "6/6 [==============================] - 0s 11ms/step - loss: 0.5964 - accuracy: 0.7017 - val_loss: 0.5790 - val_accuracy: 0.7576 - lr: 1.2158e-04\n",
      "Epoch 22/200\n",
      "6/6 [==============================] - 0s 13ms/step - loss: 0.5864 - accuracy: 0.7348 - val_loss: 0.5770 - val_accuracy: 0.7576 - lr: 1.0942e-04\n",
      "Epoch 23/200\n",
      "6/6 [==============================] - 0s 12ms/step - loss: 0.5492 - accuracy: 0.7459 - val_loss: 0.5748 - val_accuracy: 0.7576 - lr: 9.8477e-05\n",
      "Epoch 24/200\n",
      "6/6 [==============================] - 0s 11ms/step - loss: 0.5264 - accuracy: 0.7569 - val_loss: 0.5721 - val_accuracy: 0.7576 - lr: 8.8629e-05\n",
      "Epoch 25/200\n",
      "6/6 [==============================] - 0s 11ms/step - loss: 0.5925 - accuracy: 0.7403 - val_loss: 0.5696 - val_accuracy: 0.7576 - lr: 7.9766e-05\n",
      "Epoch 26/200\n",
      "6/6 [==============================] - 0s 12ms/step - loss: 0.5846 - accuracy: 0.7182 - val_loss: 0.5669 - val_accuracy: 0.8182 - lr: 7.1790e-05\n",
      "Epoch 27/200\n",
      "6/6 [==============================] - 0s 16ms/step - loss: 0.6020 - accuracy: 0.7624 - val_loss: 0.5644 - val_accuracy: 0.8182 - lr: 6.4611e-05\n",
      "Epoch 28/200\n",
      "6/6 [==============================] - 0s 11ms/step - loss: 0.6320 - accuracy: 0.7127 - val_loss: 0.5621 - val_accuracy: 0.8182 - lr: 5.8150e-05\n",
      "Epoch 29/200\n",
      "6/6 [==============================] - 0s 10ms/step - loss: 0.6274 - accuracy: 0.7238 - val_loss: 0.5598 - val_accuracy: 0.8182 - lr: 5.2335e-05\n",
      "Epoch 30/200\n",
      "6/6 [==============================] - 0s 11ms/step - loss: 0.5556 - accuracy: 0.7403 - val_loss: 0.5577 - val_accuracy: 0.8182 - lr: 4.7101e-05\n",
      "Epoch 31/200\n",
      "6/6 [==============================] - 0s 10ms/step - loss: 0.6157 - accuracy: 0.7238 - val_loss: 0.5554 - val_accuracy: 0.8182 - lr: 4.2391e-05\n",
      "Epoch 32/200\n",
      "6/6 [==============================] - 0s 10ms/step - loss: 0.5865 - accuracy: 0.7569 - val_loss: 0.5532 - val_accuracy: 0.8182 - lr: 3.8152e-05\n",
      "Epoch 33/200\n",
      "6/6 [==============================] - 0s 11ms/step - loss: 0.5830 - accuracy: 0.7403 - val_loss: 0.5510 - val_accuracy: 0.8182 - lr: 3.4337e-05\n",
      "Epoch 34/200\n",
      "6/6 [==============================] - 0s 11ms/step - loss: 0.5786 - accuracy: 0.7403 - val_loss: 0.5488 - val_accuracy: 0.8182 - lr: 3.0903e-05\n",
      "Epoch 35/200\n",
      "6/6 [==============================] - 0s 11ms/step - loss: 0.5438 - accuracy: 0.7790 - val_loss: 0.5468 - val_accuracy: 0.8182 - lr: 2.7813e-05\n",
      "Epoch 36/200\n",
      "6/6 [==============================] - 0s 9ms/step - loss: 0.5549 - accuracy: 0.7735 - val_loss: 0.5444 - val_accuracy: 0.8182 - lr: 2.5032e-05\n",
      "Epoch 37/200\n",
      "6/6 [==============================] - 0s 12ms/step - loss: 0.5879 - accuracy: 0.7072 - val_loss: 0.5419 - val_accuracy: 0.8182 - lr: 2.2528e-05\n",
      "Epoch 38/200\n",
      "6/6 [==============================] - 0s 11ms/step - loss: 0.5710 - accuracy: 0.7182 - val_loss: 0.5397 - val_accuracy: 0.8182 - lr: 2.0276e-05\n",
      "Epoch 39/200\n",
      "6/6 [==============================] - 0s 11ms/step - loss: 0.5752 - accuracy: 0.7569 - val_loss: 0.5376 - val_accuracy: 0.8182 - lr: 1.8248e-05\n",
      "Epoch 40/200\n",
      "6/6 [==============================] - 0s 11ms/step - loss: 0.5609 - accuracy: 0.7569 - val_loss: 0.5354 - val_accuracy: 0.8182 - lr: 1.6423e-05\n",
      "Epoch 41/200\n",
      "6/6 [==============================] - 0s 12ms/step - loss: 0.5702 - accuracy: 0.7514 - val_loss: 0.5330 - val_accuracy: 0.8182 - lr: 1.4781e-05\n",
      "Epoch 42/200\n",
      "6/6 [==============================] - 0s 9ms/step - loss: 0.5230 - accuracy: 0.7403 - val_loss: 0.5313 - val_accuracy: 0.8182 - lr: 1.3303e-05\n",
      "Epoch 43/200\n",
      "6/6 [==============================] - 0s 13ms/step - loss: 0.6049 - accuracy: 0.7403 - val_loss: 0.5294 - val_accuracy: 0.8485 - lr: 1.1973e-05\n",
      "Epoch 44/200\n",
      "6/6 [==============================] - 0s 13ms/step - loss: 0.5784 - accuracy: 0.7514 - val_loss: 0.5273 - val_accuracy: 0.8485 - lr: 1.0775e-05\n",
      "Epoch 45/200\n",
      "6/6 [==============================] - 0s 13ms/step - loss: 0.6242 - accuracy: 0.7845 - val_loss: 0.5252 - val_accuracy: 0.8485 - lr: 9.6977e-06\n",
      "Epoch 46/200\n",
      "6/6 [==============================] - 0s 10ms/step - loss: 0.5568 - accuracy: 0.7514 - val_loss: 0.5231 - val_accuracy: 0.8485 - lr: 8.7280e-06\n",
      "Epoch 47/200\n",
      "6/6 [==============================] - 0s 12ms/step - loss: 0.6434 - accuracy: 0.7348 - val_loss: 0.5213 - val_accuracy: 0.8485 - lr: 7.8552e-06\n",
      "Epoch 48/200\n",
      "6/6 [==============================] - 0s 10ms/step - loss: 0.6174 - accuracy: 0.7238 - val_loss: 0.5195 - val_accuracy: 0.8485 - lr: 7.0697e-06\n",
      "Epoch 49/200\n",
      "6/6 [==============================] - 0s 10ms/step - loss: 0.6339 - accuracy: 0.7293 - val_loss: 0.5176 - val_accuracy: 0.8485 - lr: 6.3627e-06\n",
      "Epoch 50/200\n",
      "6/6 [==============================] - 0s 10ms/step - loss: 0.6213 - accuracy: 0.7569 - val_loss: 0.5155 - val_accuracy: 0.8485 - lr: 5.7264e-06\n",
      "Epoch 51/200\n",
      "6/6 [==============================] - 0s 11ms/step - loss: 0.5717 - accuracy: 0.7459 - val_loss: 0.5135 - val_accuracy: 0.8485 - lr: 5.1538e-06\n",
      "Epoch 52/200\n",
      "6/6 [==============================] - 0s 11ms/step - loss: 0.5747 - accuracy: 0.7680 - val_loss: 0.5121 - val_accuracy: 0.8485 - lr: 4.6384e-06\n",
      "Epoch 53/200\n",
      "6/6 [==============================] - 0s 13ms/step - loss: 0.5309 - accuracy: 0.7459 - val_loss: 0.5099 - val_accuracy: 0.8485 - lr: 4.1746e-06\n",
      "Epoch 54/200\n",
      "6/6 [==============================] - 0s 12ms/step - loss: 0.5902 - accuracy: 0.7348 - val_loss: 0.5079 - val_accuracy: 0.8485 - lr: 3.7571e-06\n",
      "Epoch 55/200\n",
      "6/6 [==============================] - 0s 12ms/step - loss: 0.5768 - accuracy: 0.7845 - val_loss: 0.5059 - val_accuracy: 0.8788 - lr: 3.3814e-06\n",
      "Epoch 56/200\n",
      "6/6 [==============================] - 0s 13ms/step - loss: 0.5225 - accuracy: 0.7735 - val_loss: 0.5043 - val_accuracy: 0.8788 - lr: 3.0433e-06\n",
      "Epoch 57/200\n",
      "6/6 [==============================] - 0s 15ms/step - loss: 0.5747 - accuracy: 0.7348 - val_loss: 0.5026 - val_accuracy: 0.8788 - lr: 2.7389e-06\n",
      "Epoch 58/200\n",
      "6/6 [==============================] - 0s 14ms/step - loss: 0.5766 - accuracy: 0.7459 - val_loss: 0.5014 - val_accuracy: 0.8788 - lr: 2.4650e-06\n",
      "Epoch 59/200\n",
      "6/6 [==============================] - 0s 13ms/step - loss: 0.5582 - accuracy: 0.7514 - val_loss: 0.5000 - val_accuracy: 0.8788 - lr: 2.2185e-06\n",
      "Epoch 60/200\n",
      "6/6 [==============================] - 0s 10ms/step - loss: 0.5398 - accuracy: 0.7624 - val_loss: 0.4982 - val_accuracy: 0.8788 - lr: 1.9967e-06\n",
      "Epoch 61/200\n",
      "6/6 [==============================] - 0s 11ms/step - loss: 0.6273 - accuracy: 0.7348 - val_loss: 0.4971 - val_accuracy: 0.8788 - lr: 1.7970e-06\n",
      "Epoch 62/200\n",
      "6/6 [==============================] - 0s 11ms/step - loss: 0.5763 - accuracy: 0.7624 - val_loss: 0.4955 - val_accuracy: 0.8788 - lr: 1.6173e-06\n",
      "Epoch 63/200\n",
      "6/6 [==============================] - 0s 11ms/step - loss: 0.5260 - accuracy: 0.7680 - val_loss: 0.4947 - val_accuracy: 0.8788 - lr: 1.4556e-06\n",
      "Epoch 64/200\n",
      "6/6 [==============================] - 0s 10ms/step - loss: 0.4635 - accuracy: 0.8011 - val_loss: 0.4936 - val_accuracy: 0.8788 - lr: 1.3100e-06\n",
      "Epoch 65/200\n",
      "6/6 [==============================] - 0s 13ms/step - loss: 0.6143 - accuracy: 0.7624 - val_loss: 0.4919 - val_accuracy: 0.8788 - lr: 1.1790e-06\n",
      "Epoch 66/200\n",
      "6/6 [==============================] - 0s 11ms/step - loss: 0.5395 - accuracy: 0.8177 - val_loss: 0.4906 - val_accuracy: 0.8788 - lr: 1.0611e-06\n",
      "Epoch 67/200\n",
      "6/6 [==============================] - 0s 13ms/step - loss: 0.5496 - accuracy: 0.7514 - val_loss: 0.4897 - val_accuracy: 0.8788 - lr: 9.5500e-07\n",
      "Epoch 68/200\n",
      "6/6 [==============================] - 0s 14ms/step - loss: 0.5785 - accuracy: 0.7845 - val_loss: 0.4888 - val_accuracy: 0.8788 - lr: 8.5950e-07\n",
      "Epoch 69/200\n",
      "6/6 [==============================] - 0s 13ms/step - loss: 0.5994 - accuracy: 0.7624 - val_loss: 0.4873 - val_accuracy: 0.8788 - lr: 7.7355e-07\n",
      "Epoch 70/200\n",
      "6/6 [==============================] - 0s 14ms/step - loss: 0.5832 - accuracy: 0.7569 - val_loss: 0.4864 - val_accuracy: 0.8788 - lr: 6.9620e-07\n",
      "Epoch 71/200\n",
      "6/6 [==============================] - 0s 14ms/step - loss: 0.5559 - accuracy: 0.7348 - val_loss: 0.4854 - val_accuracy: 0.8788 - lr: 6.2658e-07\n",
      "Epoch 72/200\n",
      "6/6 [==============================] - 0s 16ms/step - loss: 0.5715 - accuracy: 0.7624 - val_loss: 0.4841 - val_accuracy: 0.8788 - lr: 5.6392e-07\n",
      "Epoch 73/200\n",
      "6/6 [==============================] - 0s 12ms/step - loss: 0.6306 - accuracy: 0.7127 - val_loss: 0.4824 - val_accuracy: 0.8788 - lr: 5.0753e-07\n",
      "Epoch 74/200\n",
      "6/6 [==============================] - 0s 15ms/step - loss: 0.5625 - accuracy: 0.7569 - val_loss: 0.4810 - val_accuracy: 0.8788 - lr: 4.5678e-07\n",
      "Epoch 75/200\n",
      "6/6 [==============================] - 0s 14ms/step - loss: 0.4944 - accuracy: 0.7845 - val_loss: 0.4803 - val_accuracy: 0.8788 - lr: 4.1110e-07\n",
      "Epoch 76/200\n",
      "6/6 [==============================] - 0s 17ms/step - loss: 0.5695 - accuracy: 0.7735 - val_loss: 0.4792 - val_accuracy: 0.8788 - lr: 3.6999e-07\n",
      "Epoch 77/200\n",
      "6/6 [==============================] - 0s 14ms/step - loss: 0.5598 - accuracy: 0.7680 - val_loss: 0.4783 - val_accuracy: 0.8788 - lr: 3.3299e-07\n",
      "Epoch 78/200\n",
      "6/6 [==============================] - 0s 11ms/step - loss: 0.5829 - accuracy: 0.7403 - val_loss: 0.4777 - val_accuracy: 0.8788 - lr: 2.9969e-07\n",
      "Epoch 79/200\n",
      "6/6 [==============================] - 0s 12ms/step - loss: 0.5262 - accuracy: 0.8066 - val_loss: 0.4765 - val_accuracy: 0.8788 - lr: 2.6972e-07\n",
      "Epoch 80/200\n",
      "6/6 [==============================] - 0s 14ms/step - loss: 0.5872 - accuracy: 0.7735 - val_loss: 0.4764 - val_accuracy: 0.8788 - lr: 2.4275e-07\n",
      "Epoch 81/200\n",
      "6/6 [==============================] - 0s 11ms/step - loss: 0.5105 - accuracy: 0.7845 - val_loss: 0.4761 - val_accuracy: 0.8788 - lr: 2.1847e-07\n",
      "Epoch 82/200\n",
      "6/6 [==============================] - 0s 15ms/step - loss: 0.5757 - accuracy: 0.7348 - val_loss: 0.4752 - val_accuracy: 0.8788 - lr: 1.9663e-07\n",
      "Epoch 83/200\n",
      "6/6 [==============================] - 0s 11ms/step - loss: 0.5219 - accuracy: 0.7569 - val_loss: 0.4749 - val_accuracy: 0.8788 - lr: 1.7696e-07\n",
      "Epoch 84/200\n",
      "6/6 [==============================] - 0s 11ms/step - loss: 0.5440 - accuracy: 0.7569 - val_loss: 0.4735 - val_accuracy: 0.8788 - lr: 1.5927e-07\n",
      "Epoch 85/200\n",
      "6/6 [==============================] - 0s 11ms/step - loss: 0.5562 - accuracy: 0.7790 - val_loss: 0.4733 - val_accuracy: 0.8788 - lr: 1.4334e-07\n",
      "Epoch 86/200\n",
      "6/6 [==============================] - 0s 11ms/step - loss: 0.5273 - accuracy: 0.7735 - val_loss: 0.4729 - val_accuracy: 0.8788 - lr: 1.2901e-07\n",
      "Epoch 87/200\n",
      "6/6 [==============================] - 0s 10ms/step - loss: 0.5610 - accuracy: 0.7514 - val_loss: 0.4718 - val_accuracy: 0.8788 - lr: 1.1611e-07\n",
      "Epoch 88/200\n",
      "6/6 [==============================] - 0s 10ms/step - loss: 0.5494 - accuracy: 0.7293 - val_loss: 0.4718 - val_accuracy: 0.8788 - lr: 1.0450e-07\n",
      "Epoch 89/200\n",
      "6/6 [==============================] - 0s 10ms/step - loss: 0.5429 - accuracy: 0.7680 - val_loss: 0.4712 - val_accuracy: 0.8788 - lr: 9.4046e-08\n",
      "Epoch 90/200\n",
      "6/6 [==============================] - 0s 16ms/step - loss: 0.6135 - accuracy: 0.7127 - val_loss: 0.4707 - val_accuracy: 0.8788 - lr: 8.4641e-08\n",
      "Epoch 91/200\n",
      "6/6 [==============================] - 0s 10ms/step - loss: 0.5823 - accuracy: 0.7624 - val_loss: 0.4703 - val_accuracy: 0.8788 - lr: 7.6177e-08\n",
      "Epoch 92/200\n",
      "6/6 [==============================] - 0s 11ms/step - loss: 0.5965 - accuracy: 0.7182 - val_loss: 0.4705 - val_accuracy: 0.8788 - lr: 6.8560e-08\n",
      "Epoch 93/200\n",
      "6/6 [==============================] - 0s 12ms/step - loss: 0.5517 - accuracy: 0.7348 - val_loss: 0.4696 - val_accuracy: 0.8788 - lr: 6.1704e-08\n",
      "Epoch 94/200\n",
      "6/6 [==============================] - 0s 12ms/step - loss: 0.5752 - accuracy: 0.7569 - val_loss: 0.4698 - val_accuracy: 0.8788 - lr: 5.5533e-08\n",
      "Epoch 95/200\n",
      "6/6 [==============================] - 0s 13ms/step - loss: 0.5936 - accuracy: 0.7403 - val_loss: 0.4695 - val_accuracy: 0.8788 - lr: 4.9980e-08\n",
      "Epoch 96/200\n",
      "6/6 [==============================] - 0s 11ms/step - loss: 0.5519 - accuracy: 0.7680 - val_loss: 0.4687 - val_accuracy: 0.8788 - lr: 4.4982e-08\n",
      "Epoch 97/200\n",
      "6/6 [==============================] - 0s 13ms/step - loss: 0.5518 - accuracy: 0.7624 - val_loss: 0.4676 - val_accuracy: 0.8788 - lr: 4.0484e-08\n",
      "Epoch 98/200\n",
      "6/6 [==============================] - 0s 12ms/step - loss: 0.5870 - accuracy: 0.7182 - val_loss: 0.4671 - val_accuracy: 0.8788 - lr: 3.6435e-08\n",
      "Epoch 99/200\n",
      "6/6 [==============================] - 0s 10ms/step - loss: 0.5621 - accuracy: 0.7624 - val_loss: 0.4667 - val_accuracy: 0.8788 - lr: 3.2792e-08\n",
      "Epoch 100/200\n",
      "6/6 [==============================] - 0s 10ms/step - loss: 0.5804 - accuracy: 0.7403 - val_loss: 0.4666 - val_accuracy: 0.8788 - lr: 2.9513e-08\n",
      "Epoch 101/200\n",
      "6/6 [==============================] - 0s 13ms/step - loss: 0.5675 - accuracy: 0.7569 - val_loss: 0.4661 - val_accuracy: 0.8788 - lr: 2.6561e-08\n",
      "Epoch 102/200\n",
      "6/6 [==============================] - 0s 10ms/step - loss: 0.5563 - accuracy: 0.7790 - val_loss: 0.4671 - val_accuracy: 0.8788 - lr: 2.3905e-08\n",
      "Epoch 103/200\n",
      "6/6 [==============================] - 0s 13ms/step - loss: 0.5805 - accuracy: 0.7514 - val_loss: 0.4674 - val_accuracy: 0.8788 - lr: 2.1515e-08\n",
      "Epoch 104/200\n",
      "6/6 [==============================] - 0s 14ms/step - loss: 0.5252 - accuracy: 0.7735 - val_loss: 0.4671 - val_accuracy: 0.8788 - lr: 1.9363e-08\n",
      "Epoch 105/200\n",
      "6/6 [==============================] - 0s 10ms/step - loss: 0.6062 - accuracy: 0.7624 - val_loss: 0.4666 - val_accuracy: 0.8788 - lr: 1.7427e-08\n",
      "Epoch 106/200\n",
      "6/6 [==============================] - 0s 17ms/step - loss: 0.5623 - accuracy: 0.8011 - val_loss: 0.4672 - val_accuracy: 0.8788 - lr: 1.5684e-08\n"
     ]
    }
   ],
   "source": [
    "history = model.fit(X_train, y_train, epochs=200, batch_size=32, validation_data=(X_test, y_test),\n",
    "                    callbacks=[early_stopping, lr_schedule])"
   ]
  },
  {
   "cell_type": "code",
   "execution_count": 12,
   "metadata": {},
   "outputs": [
    {
     "name": "stdout",
     "output_type": "stream",
     "text": [
      "2/2 [==============================] - 0s 0s/step - loss: 0.4661 - accuracy: 0.8788\n",
      "Test Loss: 0.46606600284576416, Test Accuracy: 0.8787878751754761\n"
     ]
    }
   ],
   "source": [
    "test_loss, test_accuracy = model.evaluate(X_test, y_test)\n",
    "print(f\"Test Loss: {test_loss}, Test Accuracy: {test_accuracy}\")"
   ]
  },
  {
   "cell_type": "code",
   "execution_count": 13,
   "metadata": {
    "colab": {
     "base_uri": "https://localhost:8080/"
    },
    "id": "wVqyoWzXwg6O",
    "outputId": "8aa816dd-fe34-45ac-da4a-df3096e857b3"
   },
   "outputs": [
    {
     "name": "stdout",
     "output_type": "stream",
     "text": [
      "2/2 [==============================] - 0s 0s/step\n"
     ]
    }
   ],
   "source": [
    "y_hat = model.predict(X_test)\n",
    "y_hat = [0 if val < 0.5 else 1 for val in y_hat]"
   ]
  },
  {
   "cell_type": "code",
   "execution_count": 14,
   "metadata": {
    "colab": {
     "base_uri": "https://localhost:8080/"
    },
    "id": "_qyMFVUF08xP",
    "outputId": "d6d3c3c0-4211-4f95-b613-12b985132b11"
   },
   "outputs": [
    {
     "name": "stdout",
     "output_type": "stream",
     "text": [
      "Gesture\n",
      "1    94\n",
      "0    87\n",
      "Name: count, dtype: int64\n"
     ]
    }
   ],
   "source": [
    "print(y_train.value_counts())"
   ]
  },
  {
   "cell_type": "code",
   "execution_count": 15,
   "metadata": {
    "colab": {
     "base_uri": "https://localhost:8080/",
     "height": 141
    },
    "id": "r-37dkaBwg6P",
    "outputId": "15e64b2e-5d35-44cf-9a46-12c6e1a0ba03"
   },
   "outputs": [
    {
     "data": {
      "text/plain": [
       "0.8787878787878788"
      ]
     },
     "execution_count": 15,
     "metadata": {},
     "output_type": "execute_result"
    }
   ],
   "source": [
    "accuracy_score(y_test, y_hat)"
   ]
  },
  {
   "cell_type": "code",
   "execution_count": 16,
   "metadata": {
    "id": "H9UwXTu_wg6Q"
   },
   "outputs": [],
   "source": [
    "model.save('tfmodel.keras')"
   ]
  },
  {
   "cell_type": "code",
   "execution_count": 17,
   "metadata": {
    "id": "FrYEDM8qwg6Q"
   },
   "outputs": [],
   "source": [
    "del model"
   ]
  },
  {
   "cell_type": "code",
   "execution_count": 18,
   "metadata": {
    "id": "BFU7_8rRwg6Q"
   },
   "outputs": [],
   "source": [
    "model = load_model('tfmodel.keras')"
   ]
  },
  {
   "cell_type": "code",
   "execution_count": 19,
   "metadata": {
    "colab": {
     "base_uri": "https://localhost:8080/"
    },
    "id": "f7HaH7hV6m_Y",
    "outputId": "a25145b5-fdfa-40e4-f7cf-3169df6ead78"
   },
   "outputs": [
    {
     "name": "stdout",
     "output_type": "stream",
     "text": [
      "2/2 [==============================] - 0s 6ms/step - loss: 0.4661 - accuracy: 0.8788\n",
      "Test Loss: 0.4661\n",
      "Test Accuracy: 87.88%\n"
     ]
    }
   ],
   "source": [
    "test_loss, test_accuracy = model.evaluate(X_test, y_test)\n",
    "print(f\"Test Loss: {test_loss:.4f}\")\n",
    "print(f\"Test Accuracy: {test_accuracy * 100:.2f}%\")"
   ]
  },
  {
   "cell_type": "code",
   "execution_count": 20,
   "metadata": {},
   "outputs": [],
   "source": [
    "# MasoudKaviani.ir"
   ]
  }
 ],
 "metadata": {
  "colab": {
   "provenance": []
  },
  "kernelspec": {
   "display_name": "Python 3 (ipykernel)",
   "language": "python",
   "name": "python3"
  },
  "language_info": {
   "codemirror_mode": {
    "name": "ipython",
    "version": 3
   },
   "file_extension": ".py",
   "mimetype": "text/x-python",
   "name": "python",
   "nbconvert_exporter": "python",
   "pygments_lexer": "ipython3",
   "version": "3.11.7"
  }
 },
 "nbformat": 4,
 "nbformat_minor": 4
}
